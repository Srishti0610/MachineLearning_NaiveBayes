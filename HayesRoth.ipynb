{
 "cells": [
  {
   "cell_type": "code",
   "execution_count": 10,
   "id": "7aa11319",
   "metadata": {},
   "outputs": [],
   "source": [
    "#Import all required packages\n",
    "import numpy as np\n",
    "import pandas as pd\n",
    "import matplotlib.pyplot as plt\n",
    "import seaborn as sns\n",
    "from sklearn.model_selection import train_test_split\n",
    "from sklearn.metrics import accuracy_score\n",
    "sns.set_style(\"darkgrid\")"
   ]
  },
  {
   "cell_type": "code",
   "execution_count": 11,
   "id": "8b93993f",
   "metadata": {},
   "outputs": [
    {
     "data": {
      "text/html": [
       "<div>\n",
       "<style scoped>\n",
       "    .dataframe tbody tr th:only-of-type {\n",
       "        vertical-align: middle;\n",
       "    }\n",
       "\n",
       "    .dataframe tbody tr th {\n",
       "        vertical-align: top;\n",
       "    }\n",
       "\n",
       "    .dataframe thead th {\n",
       "        text-align: right;\n",
       "    }\n",
       "</style>\n",
       "<table border=\"1\" class=\"dataframe\">\n",
       "  <thead>\n",
       "    <tr style=\"text-align: right;\">\n",
       "      <th></th>\n",
       "      <th>name</th>\n",
       "      <th>hobby</th>\n",
       "      <th>age</th>\n",
       "      <th>education</th>\n",
       "      <th>marital-status</th>\n",
       "      <th>Class</th>\n",
       "    </tr>\n",
       "  </thead>\n",
       "  <tbody>\n",
       "    <tr>\n",
       "      <th>0</th>\n",
       "      <td>92</td>\n",
       "      <td>2</td>\n",
       "      <td>1</td>\n",
       "      <td>1</td>\n",
       "      <td>2</td>\n",
       "      <td>1</td>\n",
       "    </tr>\n",
       "    <tr>\n",
       "      <th>1</th>\n",
       "      <td>10</td>\n",
       "      <td>2</td>\n",
       "      <td>1</td>\n",
       "      <td>3</td>\n",
       "      <td>2</td>\n",
       "      <td>2</td>\n",
       "    </tr>\n",
       "    <tr>\n",
       "      <th>2</th>\n",
       "      <td>83</td>\n",
       "      <td>3</td>\n",
       "      <td>1</td>\n",
       "      <td>4</td>\n",
       "      <td>1</td>\n",
       "      <td>3</td>\n",
       "    </tr>\n",
       "    <tr>\n",
       "      <th>3</th>\n",
       "      <td>61</td>\n",
       "      <td>2</td>\n",
       "      <td>4</td>\n",
       "      <td>2</td>\n",
       "      <td>2</td>\n",
       "      <td>3</td>\n",
       "    </tr>\n",
       "    <tr>\n",
       "      <th>4</th>\n",
       "      <td>107</td>\n",
       "      <td>1</td>\n",
       "      <td>1</td>\n",
       "      <td>3</td>\n",
       "      <td>4</td>\n",
       "      <td>3</td>\n",
       "    </tr>\n",
       "    <tr>\n",
       "      <th>5</th>\n",
       "      <td>113</td>\n",
       "      <td>1</td>\n",
       "      <td>1</td>\n",
       "      <td>3</td>\n",
       "      <td>2</td>\n",
       "      <td>2</td>\n",
       "    </tr>\n",
       "    <tr>\n",
       "      <th>6</th>\n",
       "      <td>80</td>\n",
       "      <td>3</td>\n",
       "      <td>1</td>\n",
       "      <td>3</td>\n",
       "      <td>2</td>\n",
       "      <td>2</td>\n",
       "    </tr>\n",
       "    <tr>\n",
       "      <th>7</th>\n",
       "      <td>125</td>\n",
       "      <td>3</td>\n",
       "      <td>4</td>\n",
       "      <td>2</td>\n",
       "      <td>4</td>\n",
       "      <td>3</td>\n",
       "    </tr>\n",
       "    <tr>\n",
       "      <th>8</th>\n",
       "      <td>36</td>\n",
       "      <td>2</td>\n",
       "      <td>2</td>\n",
       "      <td>1</td>\n",
       "      <td>1</td>\n",
       "      <td>1</td>\n",
       "    </tr>\n",
       "    <tr>\n",
       "      <th>9</th>\n",
       "      <td>105</td>\n",
       "      <td>3</td>\n",
       "      <td>2</td>\n",
       "      <td>1</td>\n",
       "      <td>1</td>\n",
       "      <td>1</td>\n",
       "    </tr>\n",
       "  </tbody>\n",
       "</table>\n",
       "</div>"
      ],
      "text/plain": [
       "   name  hobby  age  education  marital-status  Class\n",
       "0    92      2    1          1               2      1\n",
       "1    10      2    1          3               2      2\n",
       "2    83      3    1          4               1      3\n",
       "3    61      2    4          2               2      3\n",
       "4   107      1    1          3               4      3\n",
       "5   113      1    1          3               2      2\n",
       "6    80      3    1          3               2      2\n",
       "7   125      3    4          2               4      3\n",
       "8    36      2    2          1               1      1\n",
       "9   105      3    2          1               1      1"
      ]
     },
     "execution_count": 11,
     "metadata": {},
     "output_type": "execute_result"
    }
   ],
   "source": [
    "#Read data and display 10 rows\n",
    "data=pd.read_csv(\"hayes-roth.data\",names=['name', 'hobby', 'age', 'education', 'marital-status', 'Class'])\n",
    "data.head(10)"
   ]
  },
  {
   "cell_type": "code",
   "execution_count": 12,
   "id": "188d7d2c",
   "metadata": {},
   "outputs": [
    {
     "data": {
      "text/plain": [
       "<AxesSubplot:>"
      ]
     },
     "execution_count": 12,
     "metadata": {},
     "output_type": "execute_result"
    },
    {
     "data": {
      "image/png": "[encoded data removed]",
      "text/plain": [
       "<Figure size 432x288 with 1 Axes>"
      ]
     },
     "metadata": {},
     "output_type": "display_data"
    }
   ],
   "source": [
    "#Visualization\n",
    "data['Class'].hist()"
   ]
  },
  {
   "cell_type": "code",
   "execution_count": 13,
   "id": "2ac88dc4",
   "metadata": {},
   "outputs": [
    {
     "name": "stdout",
     "output_type": "stream",
     "text": [
      "     name  hobby  age  education  marital-status  Class\n",
      "0      92      2    1          1               2      1\n",
      "1      10      2    1          3               2      2\n",
      "2      83      3    1          4               1      3\n",
      "3      61      2    4          2               2      3\n",
      "4     107      1    1          3               4      3\n",
      "..    ...    ...  ...        ...             ...    ...\n",
      "127    44      1    1          4               3      3\n",
      "128    40      2    1          2               1      1\n",
      "129    90      1    2          1               2      2\n",
      "130    21      1    2          2               1      2\n",
      "131     9      3    1          1               2      1\n",
      "\n",
      "[132 rows x 6 columns]\n",
      "   name  hobby  age  education  marital-status  Class\n",
      "0    92      2    1          1               2      1\n",
      "1    10      2    1          3               2      2\n",
      "2    83      3    1          4               1      3\n",
      "3    61      2    4          2               2      3\n",
      "4   107      1    1          3               4      3\n"
     ]
    },
    {
     "data": {
      "text/plain": [
       "<AxesSubplot:xlabel='marital-status', ylabel='Count'>"
      ]
     },
     "execution_count": 13,
     "metadata": {},
     "output_type": "execute_result"
    },
    {
     "data": {
      "image/png": "[encoded data removed]",
      "text/plain": [
       "<Figure size 2016x864 with 4 Axes>"
      ]
     },
     "metadata": {},
     "output_type": "display_data"
    }
   ],
   "source": [
    "df = data\n",
    "\n",
    "# Replace '?' values with NaN\n",
    "df = df.replace('?', np.nan)\n",
    "\n",
    "# Drop rows with any missing values\n",
    "df = df.dropna()\n",
    "\n",
    "# Reset the index\n",
    "df = df.reset_index(drop=True)\n",
    "\n",
    "print(df)\n",
    "\n",
    "print(df.head())\n",
    "\n",
    "data=df[['hobby', 'age', 'education', 'marital-status', 'Class']]\n",
    "\n",
    "data.head(10)\n",
    "\n",
    "fig, axes = plt.subplots(1,4, figsize=(28,12), sharey=True)\n",
    "sns.histplot(data, ax=axes[0],x=\"hobby\",kde=True, color='r')\n",
    "sns.histplot(data, ax=axes[1],x=\"age\",kde=True, color='r')\n",
    "sns.histplot(data, ax=axes[2],x=\"education\",kde=True, color='r')\n",
    "sns.histplot(data, ax=axes[3],x=\"marital-status\",kde=True, color='r')"
   ]
  },
  {
   "cell_type": "code",
   "execution_count": 14,
   "id": "b8ef5ddd",
   "metadata": {},
   "outputs": [],
   "source": [
    "class NaiveBayes:\n",
    "    def fit(self, X_train, y_train):\n",
    "        self.priors, self.conditional_probs = self._compute_probabilities(X_train, y_train)\n",
    "        \n",
    "    def predict(self, X_test):\n",
    "        preds = []\n",
    "        \n",
    "        for _, row in X_test.iterrows():\n",
    "            probs = []\n",
    "            \n",
    "            for class_val in self.priors.keys():\n",
    "                p = self.priors[class_val]\n",
    "                \n",
    "                for feature, value in row.items():\n",
    "                    if feature == 'Class':\n",
    "                        continue\n",
    "                    \n",
    "                    key = (feature, value, class_val)\n",
    "                    \n",
    "                    if key in self.conditional_probs:\n",
    "                        p *= self.conditional_probs[key]\n",
    "                \n",
    "                probs.append((class_val, p))\n",
    "            \n",
    "            preds.append(max(probs, key=lambda x: x[1])[0])\n",
    "        \n",
    "        return preds\n",
    "    \n",
    "    def _compute_probabilities(self, X, y):\n",
    "        priors = dict()\n",
    "        conditional_probs = dict()\n",
    "        \n",
    "        n_samples = X.shape[0]\n",
    "        \n",
    "        # Compute the prior probabilities for each class\n",
    "        for class_val in y.unique():\n",
    "            priors[class_val] = (y == class_val).sum() / n_samples\n",
    "        \n",
    "        # Compute the conditional probabilities for each feature and class\n",
    "        for feature in X.columns:\n",
    "            if feature == 'Class':\n",
    "                continue\n",
    "                \n",
    "            for feature_val in X[feature].unique():\n",
    "                for class_val in y.unique():\n",
    "                    num = ((X[feature] == feature_val) & (y == class_val)).sum() + 1\n",
    "                    denom = (y == class_val).sum() + X[feature].nunique()\n",
    "                    \n",
    "                    key = (feature, feature_val, class_val)\n",
    "                    conditional_probs[key] = num / denom\n",
    "        \n",
    "        return priors, conditional_probs\n",
    "    "
   ]
  },
  {
   "cell_type": "code",
   "execution_count": 15,
   "id": "930e70f9",
   "metadata": {},
   "outputs": [
    {
     "name": "stdout",
     "output_type": "stream",
     "text": [
      "[3, 1, 2, 2, 2, 1, 3, 2, 1, 1, 1, 1, 3, 2, 1, 2, 2, 2, 2, 3, 2, 1, 3, 1, 3, 3, 1]\n"
     ]
    }
   ],
   "source": [
    "# Split the data into X (features) and y (target)\n",
    "X = df.drop(columns=['Class'])\n",
    "y = df['Class']\n",
    "\n",
    "# Split the data into training and test sets\n",
    "X_train, X_test, y_train, y_test = train_test_split(X, y, test_size=0.2,random_state=46)\n",
    "\n",
    "# Train a Naive Bayes classifier on the training data\n",
    "nb = NaiveBayes()\n",
    "nb.fit(X_train, y_train)\n",
    "\n",
    "# Make predictions on the test data\n",
    "y_pred = nb.predict(X_test)\n",
    "print(y_pred)"
   ]
  },
  {
   "cell_type": "code",
   "execution_count": 16,
   "id": "6845d237",
   "metadata": {},
   "outputs": [
    {
     "name": "stdout",
     "output_type": "stream",
     "text": [
      "Accuracy: 0.8148148148148148\n"
     ]
    }
   ],
   "source": [
    "# Evaluate the performance of the classifier\n",
    "accuracy = accuracy_score(y_test, y_pred)\n",
    "print(f\"Accuracy: {accuracy}\")"
   ]
  },
  {
   "cell_type": "code",
   "execution_count": 17,
   "id": "481445c6",
   "metadata": {},
   "outputs": [],
   "source": [
    "def validationOfNaiveBayes(X, y, n_folds=10):\n",
    "    scores = []\n",
    "    fold_size = X.shape[0] // n_folds\n",
    "    \n",
    "    for i in range(n_folds):\n",
    "        start = i * fold_size\n",
    "        end = (i+1) * fold_size\n",
    "        \n",
    "        X_test = X.iloc[start:end]\n",
    "        y_test = y.iloc[start:end]\n",
    "        X_train = X.drop(X.index[start:end])\n",
    "        y_train = y.drop(y.index[start:end])\n",
    "        \n",
    "        model = NaiveBayes()\n",
    "        model.fit(X_train, y_train)\n",
    "        \n",
    "        preds = model.predict(X_test)\n",
    "        score = np.mean(preds == y_test)\n",
    "        scores.append(score)\n",
    "    \n",
    "    return scores"
   ]
  },
  {
   "cell_type": "code",
   "execution_count": 18,
   "id": "5828fad5",
   "metadata": {},
   "outputs": [
    {
     "name": "stdout",
     "output_type": "stream",
     "text": [
      "0.9\n",
      "0.8\n",
      "1.0\n",
      "0.7\n",
      "0.9\n",
      "0.5\n",
      "0.9\n",
      "0.8\n",
      "0.8\n",
      "0.8\n",
      "Mean score: 0.810\n",
      "Accuracy =  81.0\n"
     ]
    }
   ],
   "source": [
    "scores = validationOfNaiveBayes(X_train, y_train)\n",
    "\n",
    "for score in scores:\n",
    "    print(round(score,3))\n",
    "mean_score = np.mean(scores)\n",
    "print(f\"Mean score: {mean_score:.3f}\")\n",
    "print(\"Accuracy = \",round(mean_score*100,2))"
   ]
  }
 ],
 "metadata": {
  "kernelspec": {
   "display_name": "Python 3 (ipykernel)",
   "language": "python",
   "name": "python3"
  },
  "language_info": {
   "codemirror_mode": {
    "name": "ipython",
    "version": 3
   },
   "file_extension": ".py",
   "mimetype": "text/x-python",
   "name": "python",
   "nbconvert_exporter": "python",
   "pygments_lexer": "ipython3",
   "version": "3.9.7"
  }
 },
 "nbformat": 4,
 "nbformat_minor": 5
}
